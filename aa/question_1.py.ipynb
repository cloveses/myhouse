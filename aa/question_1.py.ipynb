{
 "cells": [
  {
   "cell_type": "code",
   "execution_count": 1,
   "metadata": {},
   "outputs": [
    {
     "name": "stdout",
     "output_type": "stream",
     "text": [
      "7,14,21,28,42,49,56,63,77,84,91,98,"
     ]
    }
   ],
   "source": [
    "def q_first():\n",
    "    for i in range(1,101):\n",
    "        if i % 7 == 0 and i % 5 != 0:\n",
    "            print(i, end=',')\n",
    "            \n",
    "q_first()"
   ]
  },
  {
   "cell_type": "code",
   "execution_count": 2,
   "metadata": {},
   "outputs": [
    {
     "name": "stdout",
     "output_type": "stream",
     "text": [
      "187\n"
     ]
    }
   ],
   "source": [
    "def q_second():\n",
    "    for i in range(200,1,-1):\n",
    "        if i % 17 == 0:\n",
    "            print(i)\n",
    "            break\n",
    "            \n",
    "q_second()"
   ]
  },
  {
   "cell_type": "code",
   "execution_count": 3,
   "metadata": {},
   "outputs": [
    {
     "name": "stdout",
     "output_type": "stream",
     "text": [
      "chicken: 15\n",
      "rabbit: 15\n"
     ]
    }
   ],
   "source": [
    "def q_third():\n",
    "    for i in range(1,31):\n",
    "        if (90 - i * 2) % 4 == 0 and 30 - i == (90 - i * 2) / 4:\n",
    "            print('chicken:',i)\n",
    "            print('rabbit:', 30-i)\n",
    "            break\n",
    "        \n",
    "q_third()"
   ]
  },
  {
   "cell_type": "code",
   "execution_count": 4,
   "metadata": {},
   "outputs": [
    {
     "name": "stdout",
     "output_type": "stream",
     "text": [
      "公鸡:0只，母鸡:25只,小鸡:75只\n",
      "公鸡:4只，母鸡:18只,小鸡:78只\n",
      "公鸡:8只，母鸡:11只,小鸡:81只\n",
      "公鸡:12只，母鸡:4只,小鸡:84只\n"
     ]
    }
   ],
   "source": [
    "def q_fourth():\n",
    "    for i in range(0, 100//5):\n",
    "        for j in range(0, 100//3):\n",
    "            k = 100 - i - j\n",
    "            if k % 3 == 0 and i * 5 + j * 3 + k // 3 == 100:\n",
    "                print('公鸡:{}只，母鸡:{}只,小鸡:{}只'.format(i,j,k))\n",
    "\n",
    "q_fourth()"
   ]
  }
 ],
 "metadata": {
  "kernelspec": {
   "display_name": "Python 3",
   "language": "python",
   "name": "python3"
  },
  "language_info": {
   "codemirror_mode": {
    "name": "ipython",
    "version": 3
   },
   "file_extension": ".py",
   "mimetype": "text/x-python",
   "name": "python",
   "nbconvert_exporter": "python",
   "pygments_lexer": "ipython3",
   "version": "3.6.7"
  }
 },
 "nbformat": 4,
 "nbformat_minor": 2
}
